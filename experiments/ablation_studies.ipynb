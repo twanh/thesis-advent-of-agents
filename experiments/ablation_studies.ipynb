{
 "cells": [
  {
   "cell_type": "markdown",
   "metadata": {},
   "source": [
    "# Ablation Studies\n",
    "\n",
    "This notebook details the design and execution of ablation studies performed on a multi-agent system designed to solve Advent of Code puzzles. The system comprises several specialized AI agents, each responsible for a different stage of the problem-solving process: preprocessing, retrieval, planning, coding, and debugging.\n",
    "\n",
    "Ablation studies are a technique used to understand the contribution of individual components to the overall performance of a system. In this context, we will systematically disable specific agents within the system to observe how their absence impacts the system's ability to solve Advent of Code puzzles.\n",
    "\n",
    "The primary goal of these studies is to gain insights into the importance and effectiveness of each agent in the pipeline. By isolating the coding agent and disabling others in various combinations, we aim to identify which agents are most critical for successful problem-solving and how the interaction between agents influences the outcome.\n",
    "\n",
    "Through these experiments, we hope to better understand the system's architecture, identify potential areas for improvement, and inform future development efforts.\n",
    "\n",
    "**Agents in the System:**\n",
    "\n",
    "*   **Preprocessing Agent:** Handles initial processing and understanding of the puzzle description.\n",
    "*   **Retrieval Agent:** Responsible for retrieving relevant information, potentially from a knowledge base or past solutions.\n",
    "*   **Planning Agent:** Develops strategies and plans for solving the puzzle.\n",
    "*   **Coding Agent:** Generates the actual code solution based on the plan.\n",
    "*   **Debugging Agent:** Identifies and fixes errors in the generated code.\n",
    "\n",
    "In these ablation studies, the **Coding Agent will always remain enabled**, as it is essential for producing a code solution. The other agents will be selectively disabled to assess their impact.\n"
   ]
  },
  {
   "cell_type": "markdown",
   "metadata": {},
   "source": [
    "## Setup\n",
    "\n",
    "- Setup the model to use\n",
    "- Load all the puzzles"
   ]
  },
  {
   "cell_type": "code",
   "execution_count": 4,
   "metadata": {},
   "outputs": [
    {
     "name": "stdout",
     "output_type": "stream",
     "text": [
      "/home/twanh/workspace/thesis/thesis-advent-of-agents/src/\n"
     ]
    },
    {
     "data": {
      "text/plain": [
       "True"
      ]
     },
     "execution_count": 4,
     "metadata": {},
     "output_type": "execute_result"
    }
   ],
   "source": [
    "import os\n",
    "import sys\n",
    "import dotenv\n",
    "\n",
    "# Append the models path in order to import the models\n",
    "PROJECT_ROOT = os.path.join(os.getcwd(), 'src/')\n",
    "print(PROJECT_ROOT)\n",
    "sys.path.append(PROJECT_ROOT)\n",
    "\n",
    "# Load env variables\n",
    "dotenv.load_dotenv()"
   ]
  }
 ],
 "metadata": {
  "kernelspec": {
   "display_name": "Python 3 (ipykernel)",
   "language": "python",
   "name": "python3"
  }
 },
 "nbformat": 4,
 "nbformat_minor": 2
}
