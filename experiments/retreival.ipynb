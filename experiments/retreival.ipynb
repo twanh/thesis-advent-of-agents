{
 "cells": [
  {
   "cell_type": "markdown",
   "id": "80c07d90",
   "metadata": {},
   "source": [
    "# Retreival System\n",
    "\n",
    "> Aim: create a database containing previous puzzles (with there solutions) and create a retreival system that given a new puzzle finds similar puzzles and returns the (best) solutions for the similar puzzles."
   ]
  },
  {
   "cell_type": "code",
   "execution_count": 31,
   "id": "f1456bc7",
   "metadata": {},
   "outputs": [],
   "source": [
    "import os"
   ]
  },
  {
   "cell_type": "code",
   "execution_count": 36,
   "id": "ded4120b",
   "metadata": {},
   "outputs": [],
   "source": [
    "# Load all puzzles\n",
    "# puzzles are stored in a directory structure [year]/[day].txt\n",
    "PUZZLES_PATH = '/home/twanh/workspace/thesis/puzzles/auto'\n"
   ]
  },
  {
   "cell_type": "code",
   "execution_count": 42,
   "id": "5d3513c1",
   "metadata": {},
   "outputs": [
    {
     "data": {
      "text/plain": [
       "<psycopg.Cursor [COMMAND_OK] [IDLE] (host=localhost user=postgres database=advent_of_agents) at 0x7adc8d5d53d0>"
      ]
     },
     "execution_count": 42,
     "metadata": {},
     "output_type": "execute_result"
    }
   ],
   "source": [
    "# Setup the postgres database\n",
    "from pgvector.psycopg import register_vector\n",
    "import psycopg\n",
    "\n",
    "conn = psycopg.connect(\n",
    "    \"host=localhost dbname=advent_of_agents user=postgres password=postgres\",\n",
    "    autocommit=True,\n",
    ")\n",
    "\n",
    "conn.execute('CREATE EXTENSION IF NOT EXISTS vector')\n",
    "\n",
    "register_vector(conn)\n",
    "\n",
    "conn.execute('''\n",
    "-- Puzzles table\n",
    "CREATE TABLE puzzles (\n",
    "  id SERIAL PRIMARY KEY,\n",
    "  year INT NOT NULL,\n",
    "  day INT NOT NULL,\n",
    "  full_description TEXT,\n",
    "  problem_statement TEXT,\n",
    "  input_format TEXT,\n",
    "  output_format TEXT,\n",
    "  test_cases JSONB,\n",
    "  constraints TEXT,\n",
    "  keywords TEXT,\n",
    "  underlying_concepts TEXT,\n",
    "  embedding VECTOR(1536),  -- Adjust dimension as needed\n",
    "  UNIQUE(year, day)  -- Ensure year/day combinations are unique\n",
    ");\n",
    "\n",
    "-- Create an index on the vector column for fast nearest-neighbor search\n",
    "CREATE INDEX idx_embedding ON puzzles\n",
    "  USING ivfflat (embedding vector_l2_ops) WITH (lists = 100);\n",
    "\n",
    "-- Solutions table with a foreign key to puzzles\n",
    "CREATE TABLE solutions (\n",
    "  id SERIAL PRIMARY KEY,\n",
    "  puzzle_id INT NOT NULL,\n",
    "  code TEXT NOT NULL,\n",
    "  author VARCHAR(255),\n",
    "  source VARCHAR(255),\n",
    "  created_at TIMESTAMP DEFAULT CURRENT_TIMESTAMP,\n",
    "  FOREIGN KEY (puzzle_id) REFERENCES puzzles(id) ON DELETE CASCADE\n",
    ");\n",
    "\n",
    "-- Index on puzzle_id for faster joins\n",
    "CREATE INDEX idx_solutions_puzzle_id ON solutions(puzzle_id);\n",
    "\n",
    "''')"
   ]
  },
  {
   "cell_type": "code",
   "execution_count": 46,
   "id": "2243f1e4",
   "metadata": {},
   "outputs": [
    {
     "name": "stdout",
     "output_type": "stream",
     "text": [
      "['/home/twanh/workspace/thesis/puzzles/auto/2015/day_2_part_1.txt', '/home/twanh/workspace/thesis/puzzles/auto/2015/day_7_part_1.txt', '/home/twanh/workspace/thesis/puzzles/auto/2015/day_3_part_1.txt', '/home/twanh/workspace/thesis/puzzles/auto/2015/day_11_part_1.txt', '/home/twanh/workspace/thesis/puzzles/auto/2015/day_19_part_1.txt', '/home/twanh/workspace/thesis/puzzles/auto/2015/day_15_part_1.txt', '/home/twanh/workspace/thesis/puzzles/auto/2015/day_14_part_1.txt', '/home/twanh/workspace/thesis/puzzles/auto/2015/day_9_part_1.txt', '/home/twanh/workspace/thesis/puzzles/auto/2015/day_5_part_1.txt', '/home/twanh/workspace/thesis/puzzles/auto/2015/day_16_part_1.txt', '/home/twanh/workspace/thesis/puzzles/auto/2015/day_20_part_1.txt', '/home/twanh/workspace/thesis/puzzles/auto/2015/day_8_part_1.txt', '/home/twanh/workspace/thesis/puzzles/auto/2015/day_1_part_1.txt', '/home/twanh/workspace/thesis/puzzles/auto/2015/day_23_part_1.txt', '/home/twanh/workspace/thesis/puzzles/auto/2015/day_6_part_1.txt', '/home/twanh/workspace/thesis/puzzles/auto/2015/day_25_part_1.txt', '/home/twanh/workspace/thesis/puzzles/auto/2015/day_24_part_1.txt', '/home/twanh/workspace/thesis/puzzles/auto/2015/day_12_part_1.txt', '/home/twanh/workspace/thesis/puzzles/auto/2015/day_18_part_1.txt', '/home/twanh/workspace/thesis/puzzles/auto/2015/day_10_part_1.txt', '/home/twanh/workspace/thesis/puzzles/auto/2015/day_13_part_1.txt', '/home/twanh/workspace/thesis/puzzles/auto/2015/day_4_part_1.txt', '/home/twanh/workspace/thesis/puzzles/auto/2015/day_21_part_1.txt', '/home/twanh/workspace/thesis/puzzles/auto/2015/day_22_part_1.txt', '/home/twanh/workspace/thesis/puzzles/auto/2015/day_17_part_1.txt', '/home/twanh/workspace/thesis/puzzles/auto/2021/day_2_part_1.txt', '/home/twanh/workspace/thesis/puzzles/auto/2021/day_7_part_1.txt', '/home/twanh/workspace/thesis/puzzles/auto/2021/day_3_part_1.txt', '/home/twanh/workspace/thesis/puzzles/auto/2021/day_11_part_1.txt', '/home/twanh/workspace/thesis/puzzles/auto/2021/day_19_part_1.txt', '/home/twanh/workspace/thesis/puzzles/auto/2021/day_15_part_1.txt', '/home/twanh/workspace/thesis/puzzles/auto/2021/day_14_part_1.txt', '/home/twanh/workspace/thesis/puzzles/auto/2021/day_9_part_1.txt', '/home/twanh/workspace/thesis/puzzles/auto/2021/day_5_part_1.txt', '/home/twanh/workspace/thesis/puzzles/auto/2021/day_16_part_1.txt', '/home/twanh/workspace/thesis/puzzles/auto/2021/day_20_part_1.txt', '/home/twanh/workspace/thesis/puzzles/auto/2021/day_8_part_1.txt', '/home/twanh/workspace/thesis/puzzles/auto/2021/day_1_part_1.txt', '/home/twanh/workspace/thesis/puzzles/auto/2021/day_23_part_1.txt', '/home/twanh/workspace/thesis/puzzles/auto/2021/day_6_part_1.txt', '/home/twanh/workspace/thesis/puzzles/auto/2021/day_25_part_1.txt', '/home/twanh/workspace/thesis/puzzles/auto/2021/day_24_part_1.txt', '/home/twanh/workspace/thesis/puzzles/auto/2021/day_12_part_1.txt', '/home/twanh/workspace/thesis/puzzles/auto/2021/day_18_part_1.txt', '/home/twanh/workspace/thesis/puzzles/auto/2021/day_10_part_1.txt', '/home/twanh/workspace/thesis/puzzles/auto/2021/day_13_part_1.txt', '/home/twanh/workspace/thesis/puzzles/auto/2021/day_4_part_1.txt', '/home/twanh/workspace/thesis/puzzles/auto/2021/day_21_part_1.txt', '/home/twanh/workspace/thesis/puzzles/auto/2021/day_22_part_1.txt', '/home/twanh/workspace/thesis/puzzles/auto/2021/day_17_part_1.txt', '/home/twanh/workspace/thesis/puzzles/auto/2016/day_2_part_1.txt', '/home/twanh/workspace/thesis/puzzles/auto/2016/day_7_part_1.txt', '/home/twanh/workspace/thesis/puzzles/auto/2016/day_3_part_1.txt', '/home/twanh/workspace/thesis/puzzles/auto/2016/day_11_part_1.txt', '/home/twanh/workspace/thesis/puzzles/auto/2016/day_19_part_1.txt', '/home/twanh/workspace/thesis/puzzles/auto/2016/day_15_part_1.txt', '/home/twanh/workspace/thesis/puzzles/auto/2016/day_14_part_1.txt', '/home/twanh/workspace/thesis/puzzles/auto/2016/day_9_part_1.txt', '/home/twanh/workspace/thesis/puzzles/auto/2016/day_5_part_1.txt', '/home/twanh/workspace/thesis/puzzles/auto/2016/day_16_part_1.txt', '/home/twanh/workspace/thesis/puzzles/auto/2016/day_20_part_1.txt', '/home/twanh/workspace/thesis/puzzles/auto/2016/day_8_part_1.txt', '/home/twanh/workspace/thesis/puzzles/auto/2016/day_1_part_1.txt', '/home/twanh/workspace/thesis/puzzles/auto/2016/day_23_part_1.txt', '/home/twanh/workspace/thesis/puzzles/auto/2016/day_6_part_1.txt', '/home/twanh/workspace/thesis/puzzles/auto/2016/day_25_part_1.txt', '/home/twanh/workspace/thesis/puzzles/auto/2016/day_24_part_1.txt', '/home/twanh/workspace/thesis/puzzles/auto/2016/day_12_part_1.txt', '/home/twanh/workspace/thesis/puzzles/auto/2016/day_18_part_1.txt', '/home/twanh/workspace/thesis/puzzles/auto/2016/day_10_part_1.txt', '/home/twanh/workspace/thesis/puzzles/auto/2016/day_13_part_1.txt', '/home/twanh/workspace/thesis/puzzles/auto/2016/day_4_part_1.txt', '/home/twanh/workspace/thesis/puzzles/auto/2016/day_21_part_1.txt', '/home/twanh/workspace/thesis/puzzles/auto/2016/day_22_part_1.txt', '/home/twanh/workspace/thesis/puzzles/auto/2016/day_17_part_1.txt', '/home/twanh/workspace/thesis/puzzles/auto/2020/day_2_part_1.txt', '/home/twanh/workspace/thesis/puzzles/auto/2020/day_7_part_1.txt', '/home/twanh/workspace/thesis/puzzles/auto/2020/day_3_part_1.txt', '/home/twanh/workspace/thesis/puzzles/auto/2020/day_11_part_1.txt', '/home/twanh/workspace/thesis/puzzles/auto/2020/day_19_part_1.txt', '/home/twanh/workspace/thesis/puzzles/auto/2020/day_15_part_1.txt', '/home/twanh/workspace/thesis/puzzles/auto/2020/day_14_part_1.txt', '/home/twanh/workspace/thesis/puzzles/auto/2020/day_9_part_1.txt', '/home/twanh/workspace/thesis/puzzles/auto/2020/day_5_part_1.txt', '/home/twanh/workspace/thesis/puzzles/auto/2020/day_16_part_1.txt', '/home/twanh/workspace/thesis/puzzles/auto/2020/day_20_part_1.txt', '/home/twanh/workspace/thesis/puzzles/auto/2020/day_8_part_1.txt', '/home/twanh/workspace/thesis/puzzles/auto/2020/day_1_part_1.txt', '/home/twanh/workspace/thesis/puzzles/auto/2020/day_23_part_1.txt', '/home/twanh/workspace/thesis/puzzles/auto/2020/day_6_part_1.txt', '/home/twanh/workspace/thesis/puzzles/auto/2020/day_25_part_1.txt', '/home/twanh/workspace/thesis/puzzles/auto/2020/day_24_part_1.txt', '/home/twanh/workspace/thesis/puzzles/auto/2020/day_12_part_1.txt', '/home/twanh/workspace/thesis/puzzles/auto/2020/day_18_part_1.txt', '/home/twanh/workspace/thesis/puzzles/auto/2020/day_10_part_1.txt', '/home/twanh/workspace/thesis/puzzles/auto/2020/day_13_part_1.txt', '/home/twanh/workspace/thesis/puzzles/auto/2020/day_4_part_1.txt', '/home/twanh/workspace/thesis/puzzles/auto/2020/day_21_part_1.txt', '/home/twanh/workspace/thesis/puzzles/auto/2020/day_22_part_1.txt', '/home/twanh/workspace/thesis/puzzles/auto/2020/day_17_part_1.txt', '/home/twanh/workspace/thesis/puzzles/auto/2023/day_2_part_1.txt', '/home/twanh/workspace/thesis/puzzles/auto/2023/day_7_part_1.txt', '/home/twanh/workspace/thesis/puzzles/auto/2023/day_3_part_1.txt', '/home/twanh/workspace/thesis/puzzles/auto/2023/day_11_part_1.txt', '/home/twanh/workspace/thesis/puzzles/auto/2023/day_19_part_1.txt', '/home/twanh/workspace/thesis/puzzles/auto/2023/day_15_part_1.txt', '/home/twanh/workspace/thesis/puzzles/auto/2023/day_14_part_1.txt', '/home/twanh/workspace/thesis/puzzles/auto/2023/day_9_part_1.txt', '/home/twanh/workspace/thesis/puzzles/auto/2023/day_5_part_1.txt', '/home/twanh/workspace/thesis/puzzles/auto/2023/day_16_part_1.txt', '/home/twanh/workspace/thesis/puzzles/auto/2023/day_20_part_1.txt', '/home/twanh/workspace/thesis/puzzles/auto/2023/day_8_part_1.txt', '/home/twanh/workspace/thesis/puzzles/auto/2023/day_1_part_1.txt', '/home/twanh/workspace/thesis/puzzles/auto/2023/day_23_part_1.txt', '/home/twanh/workspace/thesis/puzzles/auto/2023/day_6_part_1.txt', '/home/twanh/workspace/thesis/puzzles/auto/2023/day_25_part_1.txt', '/home/twanh/workspace/thesis/puzzles/auto/2023/day_24_part_1.txt', '/home/twanh/workspace/thesis/puzzles/auto/2023/day_12_part_1.txt', '/home/twanh/workspace/thesis/puzzles/auto/2023/day_18_part_1.txt', '/home/twanh/workspace/thesis/puzzles/auto/2023/day_10_part_1.txt', '/home/twanh/workspace/thesis/puzzles/auto/2023/day_13_part_1.txt', '/home/twanh/workspace/thesis/puzzles/auto/2023/day_4_part_1.txt', '/home/twanh/workspace/thesis/puzzles/auto/2023/day_21_part_1.txt', '/home/twanh/workspace/thesis/puzzles/auto/2023/day_22_part_1.txt', '/home/twanh/workspace/thesis/puzzles/auto/2023/day_17_part_1.txt', '/home/twanh/workspace/thesis/puzzles/auto/2018/day_2_part_1.txt', '/home/twanh/workspace/thesis/puzzles/auto/2018/day_7_part_1.txt', '/home/twanh/workspace/thesis/puzzles/auto/2018/day_3_part_1.txt', '/home/twanh/workspace/thesis/puzzles/auto/2018/day_11_part_1.txt', '/home/twanh/workspace/thesis/puzzles/auto/2018/day_19_part_1.txt', '/home/twanh/workspace/thesis/puzzles/auto/2018/day_15_part_1.txt', '/home/twanh/workspace/thesis/puzzles/auto/2018/day_14_part_1.txt', '/home/twanh/workspace/thesis/puzzles/auto/2018/day_9_part_1.txt', '/home/twanh/workspace/thesis/puzzles/auto/2018/day_5_part_1.txt', '/home/twanh/workspace/thesis/puzzles/auto/2018/day_16_part_1.txt', '/home/twanh/workspace/thesis/puzzles/auto/2018/day_20_part_1.txt', '/home/twanh/workspace/thesis/puzzles/auto/2018/day_8_part_1.txt', '/home/twanh/workspace/thesis/puzzles/auto/2018/day_1_part_1.txt', '/home/twanh/workspace/thesis/puzzles/auto/2018/day_23_part_1.txt', '/home/twanh/workspace/thesis/puzzles/auto/2018/day_6_part_1.txt', '/home/twanh/workspace/thesis/puzzles/auto/2018/day_25_part_1.txt', '/home/twanh/workspace/thesis/puzzles/auto/2018/day_24_part_1.txt', '/home/twanh/workspace/thesis/puzzles/auto/2018/day_12_part_1.txt', '/home/twanh/workspace/thesis/puzzles/auto/2018/day_18_part_1.txt', '/home/twanh/workspace/thesis/puzzles/auto/2018/day_10_part_1.txt', '/home/twanh/workspace/thesis/puzzles/auto/2018/day_13_part_1.txt', '/home/twanh/workspace/thesis/puzzles/auto/2018/day_4_part_1.txt', '/home/twanh/workspace/thesis/puzzles/auto/2018/day_21_part_1.txt', '/home/twanh/workspace/thesis/puzzles/auto/2018/day_22_part_1.txt', '/home/twanh/workspace/thesis/puzzles/auto/2018/day_17_part_1.txt', '/home/twanh/workspace/thesis/puzzles/auto/2022/day_2_part_1.txt', '/home/twanh/workspace/thesis/puzzles/auto/2022/day_7_part_1.txt', '/home/twanh/workspace/thesis/puzzles/auto/2022/day_3_part_1.txt', '/home/twanh/workspace/thesis/puzzles/auto/2022/day_11_part_1.txt', '/home/twanh/workspace/thesis/puzzles/auto/2022/day_19_part_1.txt', '/home/twanh/workspace/thesis/puzzles/auto/2022/day_15_part_1.txt', '/home/twanh/workspace/thesis/puzzles/auto/2022/day_14_part_1.txt', '/home/twanh/workspace/thesis/puzzles/auto/2022/day_9_part_1.txt', '/home/twanh/workspace/thesis/puzzles/auto/2022/day_5_part_1.txt', '/home/twanh/workspace/thesis/puzzles/auto/2022/day_16_part_1.txt', '/home/twanh/workspace/thesis/puzzles/auto/2022/day_20_part_1.txt', '/home/twanh/workspace/thesis/puzzles/auto/2022/day_8_part_1.txt', '/home/twanh/workspace/thesis/puzzles/auto/2022/day_1_part_1.txt', '/home/twanh/workspace/thesis/puzzles/auto/2022/day_23_part_1.txt', '/home/twanh/workspace/thesis/puzzles/auto/2022/day_6_part_1.txt', '/home/twanh/workspace/thesis/puzzles/auto/2022/day_25_part_1.txt', '/home/twanh/workspace/thesis/puzzles/auto/2022/day_24_part_1.txt', '/home/twanh/workspace/thesis/puzzles/auto/2022/day_12_part_1.txt', '/home/twanh/workspace/thesis/puzzles/auto/2022/day_18_part_1.txt', '/home/twanh/workspace/thesis/puzzles/auto/2022/day_10_part_1.txt', '/home/twanh/workspace/thesis/puzzles/auto/2022/day_13_part_1.txt', '/home/twanh/workspace/thesis/puzzles/auto/2022/day_4_part_1.txt', '/home/twanh/workspace/thesis/puzzles/auto/2022/day_21_part_1.txt', '/home/twanh/workspace/thesis/puzzles/auto/2022/day_22_part_1.txt', '/home/twanh/workspace/thesis/puzzles/auto/2022/day_17_part_1.txt', '/home/twanh/workspace/thesis/puzzles/auto/2017/day_2_part_1.txt', '/home/twanh/workspace/thesis/puzzles/auto/2017/day_7_part_1.txt', '/home/twanh/workspace/thesis/puzzles/auto/2017/day_3_part_1.txt', '/home/twanh/workspace/thesis/puzzles/auto/2017/day_11_part_1.txt', '/home/twanh/workspace/thesis/puzzles/auto/2017/day_19_part_1.txt', '/home/twanh/workspace/thesis/puzzles/auto/2017/day_15_part_1.txt', '/home/twanh/workspace/thesis/puzzles/auto/2017/day_14_part_1.txt', '/home/twanh/workspace/thesis/puzzles/auto/2017/day_9_part_1.txt', '/home/twanh/workspace/thesis/puzzles/auto/2017/day_5_part_1.txt', '/home/twanh/workspace/thesis/puzzles/auto/2017/day_16_part_1.txt', '/home/twanh/workspace/thesis/puzzles/auto/2017/day_20_part_1.txt', '/home/twanh/workspace/thesis/puzzles/auto/2017/day_8_part_1.txt', '/home/twanh/workspace/thesis/puzzles/auto/2017/day_1_part_1.txt', '/home/twanh/workspace/thesis/puzzles/auto/2017/day_23_part_1.txt', '/home/twanh/workspace/thesis/puzzles/auto/2017/day_6_part_1.txt', '/home/twanh/workspace/thesis/puzzles/auto/2017/day_25_part_1.txt', '/home/twanh/workspace/thesis/puzzles/auto/2017/day_24_part_1.txt', '/home/twanh/workspace/thesis/puzzles/auto/2017/day_12_part_1.txt', '/home/twanh/workspace/thesis/puzzles/auto/2017/day_18_part_1.txt', '/home/twanh/workspace/thesis/puzzles/auto/2017/day_10_part_1.txt', '/home/twanh/workspace/thesis/puzzles/auto/2017/day_13_part_1.txt', '/home/twanh/workspace/thesis/puzzles/auto/2017/day_4_part_1.txt', '/home/twanh/workspace/thesis/puzzles/auto/2017/day_21_part_1.txt', '/home/twanh/workspace/thesis/puzzles/auto/2017/day_22_part_1.txt', '/home/twanh/workspace/thesis/puzzles/auto/2017/day_17_part_1.txt', '/home/twanh/workspace/thesis/puzzles/auto/2019/day_2_part_1.txt', '/home/twanh/workspace/thesis/puzzles/auto/2019/day_7_part_1.txt', '/home/twanh/workspace/thesis/puzzles/auto/2019/day_3_part_1.txt', '/home/twanh/workspace/thesis/puzzles/auto/2019/day_11_part_1.txt', '/home/twanh/workspace/thesis/puzzles/auto/2019/day_19_part_1.txt', '/home/twanh/workspace/thesis/puzzles/auto/2019/day_15_part_1.txt', '/home/twanh/workspace/thesis/puzzles/auto/2019/day_14_part_1.txt', '/home/twanh/workspace/thesis/puzzles/auto/2019/day_9_part_1.txt', '/home/twanh/workspace/thesis/puzzles/auto/2019/day_5_part_1.txt', '/home/twanh/workspace/thesis/puzzles/auto/2019/day_16_part_1.txt', '/home/twanh/workspace/thesis/puzzles/auto/2019/day_20_part_1.txt', '/home/twanh/workspace/thesis/puzzles/auto/2019/day_8_part_1.txt', '/home/twanh/workspace/thesis/puzzles/auto/2019/day_1_part_1.txt', '/home/twanh/workspace/thesis/puzzles/auto/2019/day_23_part_1.txt', '/home/twanh/workspace/thesis/puzzles/auto/2019/day_6_part_1.txt', '/home/twanh/workspace/thesis/puzzles/auto/2019/day_25_part_1.txt', '/home/twanh/workspace/thesis/puzzles/auto/2019/day_24_part_1.txt', '/home/twanh/workspace/thesis/puzzles/auto/2019/day_12_part_1.txt', '/home/twanh/workspace/thesis/puzzles/auto/2019/day_18_part_1.txt', '/home/twanh/workspace/thesis/puzzles/auto/2019/day_10_part_1.txt', '/home/twanh/workspace/thesis/puzzles/auto/2019/day_13_part_1.txt', '/home/twanh/workspace/thesis/puzzles/auto/2019/day_4_part_1.txt', '/home/twanh/workspace/thesis/puzzles/auto/2019/day_21_part_1.txt', '/home/twanh/workspace/thesis/puzzles/auto/2019/day_22_part_1.txt', '/home/twanh/workspace/thesis/puzzles/auto/2019/day_17_part_1.txt']\n",
      "Found 225 puzzle files.\n"
     ]
    }
   ],
   "source": [
    "# Get all the paths for the puzzles\n",
    "def get_puzzle_paths(puzzles_path):\n",
    "    puzzle_paths = []\n",
    "    for year in os.listdir(puzzles_path):\n",
    "        year_path = os.path.join(puzzles_path, year)\n",
    "        if os.path.isdir(year_path):\n",
    "            for day in os.listdir(year_path):\n",
    "                day_path = os.path.join(year_path, day)\n",
    "                if os.path.isfile(day_path):\n",
    "                    if day_path.endswith('.txt'):\n",
    "                        puzzle_paths.append(day_path)\n",
    "    return puzzle_paths\n",
    "puzzle_paths = get_puzzle_paths(PUZZLES_PATH)\n",
    "print(puzzle_paths)\n",
    "print(f\"Found {len(puzzle_paths)} puzzle files.\")"
   ]
  },
  {
   "cell_type": "code",
   "execution_count": null,
   "id": "75d5aea5",
   "metadata": {},
   "outputs": [],
   "source": [
    "import re\n",
    "def process_puzzle(path):\n",
    "    # Extract year and day based on the path (e.g., [year]/day_[day]_0part_1.txt) using regex\n",
    "\n",
    "    match = re.match(r'(\\d{4})/day_(\\d+)_0part_1.txt', path)\n",
    "    year = int(match.group(1))\n",
    "    day = int(match.group(2))\n",
    "\n",
    "    # Read the puzzle file\n",
    "    with open(path, 'r') as f:\n",
    "        puzzle_raw = f.read()\n",
    "\n",
    "\n",
    "    \n",
    "\n"
   ]
  },
  {
   "cell_type": "code",
   "execution_count": null,
   "id": "3a944611",
   "metadata": {},
   "outputs": [],
   "source": []
  }
 ],
 "metadata": {
  "kernelspec": {
   "display_name": "Python 3 (ipykernel)",
   "language": "python",
   "name": "python3"
  },
  "language_info": {
   "codemirror_mode": {
    "name": "ipython",
    "version": 3
   },
   "file_extension": ".py",
   "mimetype": "text/x-python",
   "name": "python",
   "nbconvert_exporter": "python",
   "pygments_lexer": "ipython3",
   "version": "3.12.6"
  }
 },
 "nbformat": 4,
 "nbformat_minor": 5
}
